{
 "cells": [
  {
   "cell_type": "markdown",
   "metadata": {},
   "source": [
    "## 教師データ収集用スクリプト"
   ]
  },
  {
   "cell_type": "markdown",
   "metadata": {},
   "source": [
    "衝突回避を学習するためのデータを収集します。\n",
    "jetbotは走りながらカメラから画像を取り込み、画像をもとに次の行動を決定します。\n",
    "このタスクでjetbotに必要なことは、障害物がなければまっすぐ進み、障害物があれば左折して回避することの二つです。\n",
    "よって、「障害物がない写真」、「障害物がある写真」の2パターンを用意する必要があります。\n",
    "このスクリプトでは、実際にjetbotを遠隔操作で走らせ、直進する(=障害物がない)か左折する(=障害物がある)かを選択します。\n",
    "直進中に撮られた写真には直進のラベルがつけられ、左折中に撮られた写真には左折のラベルがつけられます。\n",
    "AIはこのデータを使って、どれが直進していい画像なのかを学習することになります。"
   ]
  },
  {
   "cell_type": "markdown",
   "metadata": {},
   "source": [
    "AIに使うニューラルネットワークの入力サイズに合わせて、カメラの画像を224px×224pxで保存します。"
   ]
  },
  {
   "cell_type": "code",
   "execution_count": 1,
   "metadata": {},
   "outputs": [],
   "source": [
    "import traitlets\n",
    "import ipywidgets.widgets as widgets\n",
    "from IPython.display import display\n",
    "from jetbot import Camera, bgr8_to_jpeg\n",
    "\n",
    "camera = Camera.instance(width=224, height=224)\n",
    "\n",
    "image = widgets.Image(format='jpeg', width=224, height=224)  # this width and height doesn't necessarily have to match the camera\n",
    "\n",
    "camera_link = traitlets.dlink((camera, 'value'), (image, 'value'), transform=bgr8_to_jpeg)\n"
   ]
  },
  {
   "cell_type": "markdown",
   "metadata": {},
   "source": [
    "画像を保存するフォルダを設定します。\n",
    "障害物のない画像は`dataset/free`に、障害物のある画像は`dataset/blocked`に保存します。"
   ]
  },
  {
   "cell_type": "code",
   "execution_count": 2,
   "metadata": {},
   "outputs": [],
   "source": [
    "import os\n",
    "\n",
    "blocked_dir = 'dataset/blocked'\n",
    "free_dir = 'dataset/free'\n",
    "\n",
    "# we have this \"try/except\" statement because these next functions can throw an error if the directories exist already\n",
    "try:\n",
    "    os.makedirs(free_dir)\n",
    "    os.makedirs(blocked_dir)\n",
    "except FileExistsError:\n",
    "    print('Directories not created becasue they already exist')"
   ]
  },
  {
   "cell_type": "markdown",
   "metadata": {},
   "source": [
    "操作ボタンを定義します。\n",
    "前進、左折、そして止まるボタンを作っています。"
   ]
  },
  {
   "cell_type": "code",
   "execution_count": 3,
   "metadata": {},
   "outputs": [],
   "source": [
    "button_layout = widgets.Layout(width='128px', height='48px')\n",
    "free_button = widgets.Button(description='forward', button_style='success', layout=button_layout)\n",
    "blocked_button = widgets.Button(description='left', button_style='danger', layout=button_layout)\n",
    "stop_button = widgets.Button(description='stop', button_style='success', layout=button_layout) \n",
    "free_count = widgets.IntText(layout=button_layout, value=len(os.listdir(free_dir)))\n",
    "blocked_count = widgets.IntText(layout=button_layout, value=len(os.listdir(blocked_dir)))"
   ]
  },
  {
   "cell_type": "markdown",
   "metadata": {},
   "source": [
    "各フォルダに写真を保存するメソッドを定義しています。"
   ]
  },
  {
   "cell_type": "code",
   "execution_count": 4,
   "metadata": {},
   "outputs": [],
   "source": [
    "from uuid import uuid1\n",
    "\n",
    "def save_snapshot(directory):\n",
    "    image_path = os.path.join(directory, str(uuid1()) + '.jpg')\n",
    "    with open(image_path, 'wb') as f:\n",
    "        f.write(image.value)\n",
    "\n",
    "def save_free():\n",
    "    global free_dir, free_count\n",
    "    save_snapshot(free_dir)\n",
    "    free_count.value = len(os.listdir(free_dir))\n",
    "    \n",
    "def save_blocked():\n",
    "    global blocked_dir, blocked_count\n",
    "    save_snapshot(blocked_dir)\n",
    "    blocked_count.value = len(os.listdir(blocked_dir))"
   ]
  },
  {
   "cell_type": "markdown",
   "metadata": {},
   "source": [
    "モータを制御するため、Robotインスタンスを生成します。"
   ]
  },
  {
   "cell_type": "code",
   "execution_count": 5,
   "metadata": {},
   "outputs": [],
   "source": [
    "from jetbot import Robot\n",
    "robot = Robot()"
   ]
  },
  {
   "cell_type": "markdown",
   "metadata": {},
   "source": [
    "ボタンを押したときのjetbotの挙動を定義します。\n",
    "前進の時は前進し続けながら一定間隔で画像を保存します。\n",
    "左折の時は、写真を撮り、少し左へ方向転換して止まります。\n",
    "これは、直進の時はあまり操作が必要ないので効率性を重視し、障害物を回避するときには慎重に操作する必要があるので確実性を重視したためです。"
   ]
  },
  {
   "cell_type": "code",
   "execution_count": 6,
   "metadata": {},
   "outputs": [],
   "source": [
    "import time\n",
    "\n",
    "isFree = False\n",
    "isRunning = False\n",
    "stepcount = 0\n",
    "\n",
    "def set_forward(change):\n",
    "    global stepcount, isFree, isRunning, robot\n",
    "    stepcount = 0\n",
    "    isRunning = True\n",
    "    isFree = True\n",
    "\n",
    "def set_left(change):\n",
    "    global stepcount, isFree, isRunning, robot\n",
    "    robot.stop()\n",
    "    save_blocked()\n",
    "    robot.left(0.4)\n",
    "    stepcount = 0\n",
    "    isRunning = True\n",
    "    isFree = False\n",
    "            \n",
    "\n",
    "def update(change):\n",
    "    global stepcount, isFree, isRunning, robot\n",
    "    time.sleep(0.001)\n",
    "    #blocked_count.value = stepcount\n",
    "    if(isRunning):\n",
    "        if(isFree):\n",
    "            if(stepcount % 25 == 0):\n",
    "                robot.stop()\n",
    "                save_free()\n",
    "                robot.forward(0.4)\n",
    "        else:\n",
    "            if(stepcount % 6 == 5):\n",
    "                isRunning = False\n",
    "                robot.stop()\n",
    "        stepcount += 1\n",
    "        \n",
    "    \n",
    "def stop(change):\n",
    "    global isRunning, robot\n",
    "    isRunning = False\n",
    "    robot.stop()\n",
    "    \n",
    "free_button.on_click(set_forward)\n",
    "blocked_button.on_click(set_left)\n",
    "stop_button.on_click(stop)"
   ]
  },
  {
   "cell_type": "markdown",
   "metadata": {},
   "source": [
    "UIを表示させます。UIを構成するのはカメラからのイメージと操作パネルです。\n",
    "操作パネル上段には、直進ボタンと直進フォルダに保存された画像の数が表示されます。\n",
    "また、中段には左折ボタンと左折フォルダに保存された画像の数を表示されます。\n",
    "最後に止まるボタンを表示します。"
   ]
  },
  {
   "cell_type": "code",
   "execution_count": 7,
   "metadata": {},
   "outputs": [
    {
     "data": {
      "application/vnd.jupyter.widget-view+json": {
       "model_id": "c97124fe9d794a199606c17ca1610558",
       "version_major": 2,
       "version_minor": 0
      },
      "text/plain": [
       "Image(value=b'\\xff\\xd8\\xff\\xe0\\x00\\x10JFIF\\x00\\x01\\x01\\x00\\x00\\x01\\x00\\x01\\x00\\x00\\xff\\xdb\\x00C\\x00\\x02\\x01\\x0…"
      ]
     },
     "metadata": {},
     "output_type": "display_data"
    },
    {
     "data": {
      "application/vnd.jupyter.widget-view+json": {
       "model_id": "20527b184577490b86cf19803737e5fd",
       "version_major": 2,
       "version_minor": 0
      },
      "text/plain": [
       "HBox(children=(Button(button_style='success', description='forward', layout=Layout(height='48px', width='128px…"
      ]
     },
     "metadata": {},
     "output_type": "display_data"
    },
    {
     "data": {
      "application/vnd.jupyter.widget-view+json": {
       "model_id": "8bc5817ede7f4318bd53dfc10fcaff58",
       "version_major": 2,
       "version_minor": 0
      },
      "text/plain": [
       "HBox(children=(Button(button_style='danger', description='left', layout=Layout(height='48px', width='128px'), …"
      ]
     },
     "metadata": {},
     "output_type": "display_data"
    },
    {
     "data": {
      "application/vnd.jupyter.widget-view+json": {
       "model_id": "7c239bf9b69442c6a923b7d2b20812a4",
       "version_major": 2,
       "version_minor": 0
      },
      "text/plain": [
       "Button(button_style='success', description='stop', layout=Layout(height='48px', width='128px'), style=ButtonSt…"
      ]
     },
     "metadata": {},
     "output_type": "display_data"
    }
   ],
   "source": [
    "display(image)\n",
    "display(widgets.HBox([free_button, free_count]))\n",
    "display(widgets.HBox([blocked_button, blocked_count]))\n",
    "display(stop_button)"
   ]
  },
  {
   "cell_type": "markdown",
   "metadata": {},
   "source": [
    "カメラに先ほど定義したメソッドを紐づけます。\n",
    "カメラの画像が更新されるたびにupdateメソッドが呼ばれることになります。\n",
    "これを実行することで、ボタンを押すとjetbotが走り出すようになります。"
   ]
  },
  {
   "cell_type": "code",
   "execution_count": 10,
   "metadata": {},
   "outputs": [],
   "source": [
    "camera.observe(update, names='value')"
   ]
  },
  {
   "cell_type": "markdown",
   "metadata": {},
   "source": [
    "以下はデータ収集の終了後に実行する処理です。\n",
    "updateメソッドとカメラとの関連付けを外します。\n",
    "また、jetbotを停止させます。"
   ]
  },
  {
   "cell_type": "code",
   "execution_count": 11,
   "metadata": {},
   "outputs": [],
   "source": [
    "camera.unobserve(update, names='value')\n",
    "robot.stop()"
   ]
  },
  {
   "cell_type": "markdown",
   "metadata": {},
   "source": [
    "datasetフォルダの中身をzipファイルにして保存し、ダウンロード可能にします。\n",
    "jetbot上で学習も行う場合は不要です。"
   ]
  },
  {
   "cell_type": "code",
   "execution_count": 12,
   "metadata": {},
   "outputs": [],
   "source": [
    "!zip -r -q dataset.zip dataset"
   ]
  }
 ],
 "metadata": {
  "kernelspec": {
   "display_name": "Python 3",
   "language": "python",
   "name": "python3"
  },
  "language_info": {
   "codemirror_mode": {
    "name": "ipython",
    "version": 3
   },
   "file_extension": ".py",
   "mimetype": "text/x-python",
   "name": "python",
   "nbconvert_exporter": "python",
   "pygments_lexer": "ipython3",
   "version": "3.6.8"
  }
 },
 "nbformat": 4,
 "nbformat_minor": 2
}
